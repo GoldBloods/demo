import tensorflow as tf
m1 = tf.constant([[3,3]])
